{
 "cells": [
  {
   "cell_type": "code",
   "execution_count": 1,
   "metadata": {},
   "outputs": [],
   "source": [
    "import utide as ut"
   ]
  },
  {
   "cell_type": "code",
   "execution_count": 3,
   "metadata": {},
   "outputs": [
    {
     "name": "stdout",
     "output_type": "stream",
     "text": [
      "Help on function solve in module utide._solve:\n",
      "\n",
      "solve(t, u, v=None, lat=None, **opts)\n",
      "    Calculate amplitude, phase, confidence intervals of tidal constituents.\n",
      "    \n",
      "    Parameters\n",
      "    ----------\n",
      "    t : array_like\n",
      "        Time in days since `epoch`.\n",
      "    u : array_like\n",
      "        Sea-surface height, velocity component, etc.\n",
      "    v : {None, array_like}, optional\n",
      "        If `u` is a velocity component, `v` is the orthogonal component.\n",
      "    lat : float, required\n",
      "        Latitude in degrees.\n",
      "    epoch : {string, `datetime.date`, `datetime.datetime`}, optional\n",
      "        Valid strings are 'python' (default); 'matlab' if `t` is\n",
      "        an array of Matlab datenums; or an arbitrary date in the\n",
      "        form 'YYYY-MM-DD'.  The default corresponds to the Python\n",
      "        standard library `datetime` proleptic Gregorian calendar,\n",
      "        starting with 1 at 00:00 on January 1 of year 1; this is\n",
      "        the 'datenum' used by Matplotlib.\n",
      "    constit : {'auto', sequence}, optional\n",
      "        List of strings with standard letter abbreviations of\n",
      "        tidal constituents; or 'auto' to let the list be determined\n",
      "        based on the time span.\n",
      "    conf_int : {'linear', 'MC', 'none'}, optional\n",
      "        If not 'none' (string), calculate linearized confidence\n",
      "        intervals, or use a Monte-Carlo simulation.\n",
      "    method : {'ols', 'robust'}, optional\n",
      "        Solve with ordinary least squares, or with a robust algorithm.\n",
      "    trend : bool, optional\n",
      "        True (default) to include a linear trend in the model.\n",
      "    phase : {'Greenwich', 'linear_time', 'raw'}, optional\n",
      "        Give Greenwich-referenced phase lags, an approximation\n",
      "        using linearized times, or raw lags.\n",
      "    nodal : {True, False, 'linear_time'}, optional\n",
      "        True (default) to include nodal/satellite corrections;\n",
      "        'linear_time' to use the linearized time approximation;\n",
      "        False to omit nodal corrections.\n",
      "    \n",
      "    Returns\n",
      "    -------\n",
      "    coef : Bunch\n",
      "        Data container with all configuration and solution information:\n",
      "    \n",
      "    Other Parameters\n",
      "    ----------------\n",
      "    infer : {None, dict or Bunch}, optional; default is None.\n",
      "        If not None, the items are:\n",
      "    \n",
      "        **inferred_names** : {sequence of N strings}\n",
      "            inferred constituent names\n",
      "        **reference_names** : {sequence of N strings}\n",
      "            reference constituent names\n",
      "        **amp_ratios** : {sequence, N or 2N floats}\n",
      "            amplitude ratios (unitless)\n",
      "        **phase_offsets** : {sequence, N or 2N floats}\n",
      "            phase offsets (degrees)\n",
      "        **approximate** : {bool, optional (default is False)}\n",
      "            use approximate method\n",
      "    \n",
      "        amp_ratios and phase_offsets have length N for a scalar\n",
      "        time series, or 2N for a vector series.\n",
      "    \n",
      "    order_constit : {'PE', 'SNR', 'frequency', sequence}, optional\n",
      "        The default is 'PE' (percent energy) order, returning results ordered from\n",
      "        high energy to low.\n",
      "        The 'SNR' order is from high signal-to-noise ratio to low, and is\n",
      "        available only if `conf_int` is not 'none'. The\n",
      "        'frequency' order is from low to high frequency. Alternatively, a\n",
      "        sequence of constituent names may be supplied, typically the same list as\n",
      "        given in the *constit* option.\n",
      "    MC_n : integer, optional\n",
      "        Not yet implemented.\n",
      "    robust_kw : dict, optional\n",
      "        Keyword arguments for `robustfit`, if `method` is 'robust'.\n",
      "    Rayleigh_min : float\n",
      "        Minimum conventional Rayleigh criterion for automatic\n",
      "        constituent selection; default is 1.\n",
      "    white : bool\n",
      "        If False (default), use band-averaged spectra from the\n",
      "        residuals in the confidence limit estimates; if True,\n",
      "        assume a white background spectrum.\n",
      "    verbose : {True, False}, optional\n",
      "        True (default) turns on verbose output. False emits no messages.\n",
      "    \n",
      "    Note\n",
      "    ----\n",
      "    `utide.reconstruct` requires the calculation of confidence intervals.\n",
      "    \n",
      "    Notes\n",
      "    -----\n",
      "    \n",
      "    To be added: much additional explanation.\n",
      "    \n",
      "    There will also be more \"Other Parameters\".\n",
      "\n"
     ]
    }
   ],
   "source": [
    "help(ut.solve)"
   ]
  },
  {
   "cell_type": "code",
   "execution_count": null,
   "metadata": {},
   "outputs": [],
   "source": []
  }
 ],
 "metadata": {
  "interpreter": {
   "hash": "8f524c5d4fd00a57cf286a859919f18af5e86658323418c29131ee166da378b4"
  },
  "kernelspec": {
   "display_name": "Python 3.10.4 64-bit",
   "language": "python",
   "name": "python3"
  },
  "language_info": {
   "codemirror_mode": {
    "name": "ipython",
    "version": 3
   },
   "file_extension": ".py",
   "mimetype": "text/x-python",
   "name": "python",
   "nbconvert_exporter": "python",
   "pygments_lexer": "ipython3",
   "version": "3.10.4"
  },
  "orig_nbformat": 4
 },
 "nbformat": 4,
 "nbformat_minor": 2
}
